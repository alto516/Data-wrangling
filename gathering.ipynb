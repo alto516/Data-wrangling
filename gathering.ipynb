{
 "cells": [
  {
   "cell_type": "markdown",
   "metadata": {},
   "source": [
    "- audience score & number of audience ratings"
   ]
  },
  {
   "cell_type": "code",
   "execution_count": 74,
   "metadata": {},
   "outputs": [
    {
     "data": {
      "text/html": [
       "<div>\n",
       "<style scoped>\n",
       "    .dataframe tbody tr th:only-of-type {\n",
       "        vertical-align: middle;\n",
       "    }\n",
       "\n",
       "    .dataframe tbody tr th {\n",
       "        vertical-align: top;\n",
       "    }\n",
       "\n",
       "    .dataframe thead th {\n",
       "        text-align: right;\n",
       "    }\n",
       "</style>\n",
       "<table border=\"1\" class=\"dataframe\">\n",
       "  <thead>\n",
       "    <tr style=\"text-align: right;\">\n",
       "      <th></th>\n",
       "      <th>ranking</th>\n",
       "      <th>critic_score</th>\n",
       "      <th>title</th>\n",
       "      <th>number_of_critic_ratings</th>\n",
       "    </tr>\n",
       "  </thead>\n",
       "  <tbody>\n",
       "    <tr>\n",
       "      <th>0</th>\n",
       "      <td>1</td>\n",
       "      <td>99</td>\n",
       "      <td>The Wizard of Oz (1939)</td>\n",
       "      <td>110</td>\n",
       "    </tr>\n",
       "    <tr>\n",
       "      <th>1</th>\n",
       "      <td>2</td>\n",
       "      <td>100</td>\n",
       "      <td>Citizen Kane (1941)</td>\n",
       "      <td>75</td>\n",
       "    </tr>\n",
       "    <tr>\n",
       "      <th>2</th>\n",
       "      <td>3</td>\n",
       "      <td>100</td>\n",
       "      <td>The Third Man (1949)</td>\n",
       "      <td>77</td>\n",
       "    </tr>\n",
       "    <tr>\n",
       "      <th>3</th>\n",
       "      <td>4</td>\n",
       "      <td>99</td>\n",
       "      <td>Get Out (2017)</td>\n",
       "      <td>282</td>\n",
       "    </tr>\n",
       "    <tr>\n",
       "      <th>4</th>\n",
       "      <td>5</td>\n",
       "      <td>97</td>\n",
       "      <td>Mad Max: Fury Road (2015)</td>\n",
       "      <td>370</td>\n",
       "    </tr>\n",
       "  </tbody>\n",
       "</table>\n",
       "</div>"
      ],
      "text/plain": [
       "   ranking  critic_score                      title  number_of_critic_ratings\n",
       "0        1            99    The Wizard of Oz (1939)                       110\n",
       "1        2           100        Citizen Kane (1941)                        75\n",
       "2        3           100       The Third Man (1949)                        77\n",
       "3        4            99             Get Out (2017)                       282\n",
       "4        5            97  Mad Max: Fury Road (2015)                       370"
      ]
     },
     "execution_count": 74,
     "metadata": {},
     "output_type": "execute_result"
    }
   ],
   "source": [
    "import pandas as pd\n",
    "df = pd.read_csv('bestofrt.tsv', sep='\\t')\n",
    "df.head()"
   ]
  },
  {
   "cell_type": "code",
   "execution_count": 75,
   "metadata": {},
   "outputs": [
    {
     "data": {
      "text/plain": [
       "<matplotlib.collections.PathCollection at 0x1be319e6240>"
      ]
     },
     "execution_count": 75,
     "metadata": {},
     "output_type": "execute_result"
    },
    {
     "data": {
      "image/png": "[encoded data removed]",
      "text/plain": [
       "<Figure size 432x288 with 1 Axes>"
      ]
     },
     "metadata": {
      "needs_background": "light"
     },
     "output_type": "display_data"
    }
   ],
   "source": [
    "import matplotlib.pyplot as plt\n",
    "%matplotlib inline\n",
    "\n",
    "plt.scatter(df.number_of_critic_ratings, df.critic_score)"
   ]
  },
  {
   "cell_type": "markdown",
   "metadata": {},
   "source": [
    "### 1.  Web Scraping( HTML)\n",
    "- The two main ways to work with HTML files are:\n",
    "\n",
    "Saving the HTML file to your computer (using the Requests library for example) library and reading that file into a BeautifulSoup constructor<br>\n",
    "Reading the HTML response content directly into a BeautifulSoup constructor-HTML parser (again using the Requests library for example)"
   ]
  },
  {
   "cell_type": "code",
   "execution_count": 11,
   "metadata": {},
   "outputs": [],
   "source": [
    "import requests\n",
    "url = \"https://www.rottentomatoes.com/m/et_the_extraterrestrial\"\n",
    "response = requests.get(url)\n",
    "\n",
    "# Frist wqy, Save HTML to file\n",
    "with open(\"et_the_extraterrestria.html\", mode='wb') as file:\n",
    "    file.write(response.content)"
   ]
  },
  {
   "cell_type": "code",
   "execution_count": 12,
   "metadata": {},
   "outputs": [],
   "source": [
    "# Second way, being done by not saving a file to the computer at all\n",
    "# Work with HTML in memory\n",
    "from bs4 import BeautifulSoup\n",
    "soup = BeautifulSoup(response.content)"
   ]
  },
  {
   "cell_type": "markdown",
   "metadata": {},
   "source": [
    "### 2. Extract the title from HTML file"
   ]
  },
  {
   "cell_type": "code",
   "execution_count": 23,
   "metadata": {},
   "outputs": [],
   "source": [
    "from bs4 import BeautifulSoup\n"
   ]
  },
  {
   "cell_type": "code",
   "execution_count": 37,
   "metadata": {},
   "outputs": [
    {
     "data": {
      "text/plain": [
       "<title>E.T. The Extra-Terrestrial (1982) - Rotten Tomatoes</title>"
      ]
     },
     "execution_count": 37,
     "metadata": {},
     "output_type": "execute_result"
    }
   ],
   "source": [
    "with open('rt_html/et_the_extraterrestrial.html', encoding=\"utf-8\") as file:\n",
    "    soup = BeautifulSoup(file)   # if there is a warning in there, put  (file, 'lxml')\n",
    "soup.find('title')\n"
   ]
  },
  {
   "cell_type": "code",
   "execution_count": 30,
   "metadata": {},
   "outputs": [
    {
     "data": {
      "text/plain": [
       "<title>E.T. The Extra-Terrestrial (1982) - Rotten Tomatoes</title>"
      ]
     },
     "execution_count": 30,
     "metadata": {},
     "output_type": "execute_result"
    }
   ],
   "source": [
    "soup.title"
   ]
  },
  {
   "cell_type": "code",
   "execution_count": 33,
   "metadata": {},
   "outputs": [
    {
     "data": {
      "text/plain": [
       "'E.T. The Extra-Terrestrial\\xa0(1982) - Rotten Tomatoes'"
      ]
     },
     "execution_count": 33,
     "metadata": {},
     "output_type": "execute_result"
    }
   ],
   "source": [
    "soup.title.contents[0]         "
   ]
  },
  {
   "cell_type": "code",
   "execution_count": 35,
   "metadata": {},
   "outputs": [
    {
     "data": {
      "text/plain": [
       "'E.T. The Extra-Terrestrial\\xa0(1982) '"
      ]
     },
     "execution_count": 35,
     "metadata": {},
     "output_type": "execute_result"
    }
   ],
   "source": [
    "soup.title.contents[0][:-len('- Rotten Tomatoes')]           "
   ]
  },
  {
   "cell_type": "markdown",
   "metadata": {},
   "source": [
    "- xa0 - unicode of non-breaking space, TSV파일은 non-breaking space를 고려하지 않으므로 신경쓸필요 없다. regular space로 인식함."
   ]
  },
  {
   "cell_type": "markdown",
   "metadata": {},
   "source": [
    "#### If I download all 100 files, need to put this code in a loop. "
   ]
  },
  {
   "cell_type": "code",
   "execution_count": 73,
   "metadata": {},
   "outputs": [
    {
     "name": "stdout",
     "output_type": "stream",
     "text": [
      "E.T. The Extra-Terrestrial (1982) \n",
      "72\n",
      "<div class=\"audience-info hidden-xs superPageFontColor\">\n",
      "<div>\n",
      "<span class=\"subtle superPageFontColor\">Average Rating:</span>\n",
      "            3.5/5\n",
      "                </div>\n",
      "<div>\n",
      "<span class=\"subtle superPageFontColor\">User Ratings:</span>\n",
      "        32,313,030</div>\n",
      "</div>\n",
      "------second div----------\n",
      "<div>\n",
      "<span class=\"subtle superPageFontColor\">User Ratings:</span>\n",
      "        32,313,030</div>\n",
      "------div contents----------\n",
      "['\\n', <span class=\"subtle superPageFontColor\">User Ratings:</span>, '\\n        32,313,030']\n",
      "------audience rating----------\n",
      "\n",
      "        32,313,030\n",
      "32313030\n",
      "Finding Nemo (2003) \n",
      "86\n",
      "<div class=\"audience-info hidden-xs superPageFontColor\">\n",
      "<div>\n",
      "<span class=\"subtle superPageFontColor\">Average Rating:</span>\n",
      "            3.8/5\n",
      "                </div>\n",
      "<div>\n",
      "<span class=\"subtle superPageFontColor\">User Ratings:</span>\n",
      "        33,355,673</div>\n",
      "</div>\n",
      "------second div----------\n",
      "<div>\n",
      "<span class=\"subtle superPageFontColor\">User Ratings:</span>\n",
      "        33,355,673</div>\n",
      "------div contents----------\n",
      "['\\n', <span class=\"subtle superPageFontColor\">User Ratings:</span>, '\\n        33,355,673']\n",
      "------audience rating----------\n",
      "\n",
      "        33,355,673\n",
      "33355673\n",
      "The Godfather (1972) \n",
      "98\n",
      "<div class=\"audience-info hidden-xs superPageFontColor\">\n",
      "<div>\n",
      "<span class=\"subtle superPageFontColor\">Average Rating:</span>\n",
      "            4.4/5\n",
      "                </div>\n",
      "<div>\n",
      "<span class=\"subtle superPageFontColor\">User Ratings:</span>\n",
      "        730,433</div>\n",
      "</div>\n",
      "------second div----------\n",
      "<div>\n",
      "<span class=\"subtle superPageFontColor\">User Ratings:</span>\n",
      "        730,433</div>\n",
      "------div contents----------\n",
      "['\\n', <span class=\"subtle superPageFontColor\">User Ratings:</span>, '\\n        730,433']\n",
      "------audience rating----------\n",
      "\n",
      "        730,433\n",
      "730433\n"
     ]
    },
    {
     "data": {
      "text/html": [
       "<div>\n",
       "<style scoped>\n",
       "    .dataframe tbody tr th:only-of-type {\n",
       "        vertical-align: middle;\n",
       "    }\n",
       "\n",
       "    .dataframe tbody tr th {\n",
       "        vertical-align: top;\n",
       "    }\n",
       "\n",
       "    .dataframe thead th {\n",
       "        text-align: right;\n",
       "    }\n",
       "</style>\n",
       "<table border=\"1\" class=\"dataframe\">\n",
       "  <thead>\n",
       "    <tr style=\"text-align: right;\">\n",
       "      <th></th>\n",
       "      <th>title</th>\n",
       "      <th>audience_score</th>\n",
       "      <th>num_audience_ratings</th>\n",
       "      <th>int type_ratings</th>\n",
       "    </tr>\n",
       "  </thead>\n",
       "  <tbody>\n",
       "    <tr>\n",
       "      <th>0</th>\n",
       "      <td>E.T. The Extra-Terrestrial (1982)</td>\n",
       "      <td>72</td>\n",
       "      <td>32,313,030</td>\n",
       "      <td>32313030</td>\n",
       "    </tr>\n",
       "    <tr>\n",
       "      <th>1</th>\n",
       "      <td>Finding Nemo (2003)</td>\n",
       "      <td>86</td>\n",
       "      <td>33,355,673</td>\n",
       "      <td>33355673</td>\n",
       "    </tr>\n",
       "    <tr>\n",
       "      <th>2</th>\n",
       "      <td>The Godfather (1972)</td>\n",
       "      <td>98</td>\n",
       "      <td>730,433</td>\n",
       "      <td>730433</td>\n",
       "    </tr>\n",
       "  </tbody>\n",
       "</table>\n",
       "</div>"
      ],
      "text/plain": [
       "                                title audience_score num_audience_ratings  \\\n",
       "0  E.T. The Extra-Terrestrial (1982)              72  \n",
       "        32,313,030   \n",
       "1                Finding Nemo (2003)              86  \n",
       "        33,355,673   \n",
       "2               The Godfather (1972)              98     \n",
       "        730,433   \n",
       "\n",
       "  int type_ratings  \n",
       "0         32313030  \n",
       "1         33355673  \n",
       "2           730433  "
      ]
     },
     "execution_count": 73,
     "metadata": {},
     "output_type": "execute_result"
    }
   ],
   "source": [
    "import os\n",
    "\n",
    "df_list = []\n",
    "folder = 'rt_html'\n",
    "for movie_html in os.listdir(folder):\n",
    "    with open(os.path.join(folder, movie_html), encoding='utf-8') as file:\n",
    "        soup = BeautifulSoup(file)\n",
    "        #title\n",
    "        title = soup.find('title').contents[0][:-len('- Rotten Tomatoes')]\n",
    "        \n",
    "        # <div class=\"audience-score meter\">\" 코드로 되어 있을 때\n",
    "        # [:-1]  %표시 없앨때\n",
    "        audience_score = soup.find('div', class_='audience-score meter').find('span').contents[0][:-1]\n",
    "        \n",
    "        # the number of audience ratings\n",
    "        # <div class=\"audience-info hidden-xs superPageFontColor\">\n",
    "        #          <span class=\"subtle superPageFontColor\"> Average Ratings </span> 코드로 되어 있을때\n",
    "        div_num_audience_ratings = soup.find('div', class_='audience-info hidden-xs superPageFontColor')\n",
    "        \n",
    "        # div가 2개 있는데, 여기서 필요한 것은 user rating이므로(2번째)\n",
    "        second_div_num_audience_ratings = div_num_audience_ratings.find_all('div')[1]\n",
    "        # div contents는 여러개.\n",
    "        div_content = div_num_audience_ratings.find_all('div')[1].contents\n",
    "        # div contetns 중 마지막 index.\n",
    "        num_audience_ratings = div_num_audience_ratings.find_all('div')[1].contents[2]\n",
    "        int_type = num_audience_ratings.strip().replace(',','')\n",
    "        \n",
    "        print(title)\n",
    "        print(audience_score)\n",
    "        print(div_num_audience_ratings)\n",
    "        print('------second div----------')\n",
    "        print(second_div_num_audience_ratings)\n",
    "        print('------div contents----------')\n",
    "        print(div_content)\n",
    "        print('------audience rating----------')\n",
    "        print(num_audience_ratings)\n",
    "        print(int_type)\n",
    "\n",
    "        df_list.append({'title': title,\n",
    "                       'audience_score' : audience_score,\n",
    "                       'num_audience_ratings': num_audience_ratings,\n",
    "                       'int type_ratings': int_type})\n",
    "df = pd.DataFrame(df_list, columns=['title', 'audience_score', 'num_audience_ratings', 'int type_ratings'])\n",
    "df"
   ]
  },
  {
   "cell_type": "markdown",
   "metadata": {},
   "source": [
    "### 3. Downloading Files from the Internet - Requests: HTTP for Humans\n"
   ]
  },
  {
   "cell_type": "code",
   "execution_count": null,
   "metadata": {},
   "outputs": [],
   "source": []
  },
  {
   "cell_type": "code",
   "execution_count": null,
   "metadata": {},
   "outputs": [],
   "source": []
  },
  {
   "cell_type": "code",
   "execution_count": null,
   "metadata": {},
   "outputs": [],
   "source": []
  }
 ],
 "metadata": {
  "kernelspec": {
   "display_name": "Python 3",
   "language": "python",
   "name": "python3"
  },
  "language_info": {
   "codemirror_mode": {
    "name": "ipython",
    "version": 3
   },
   "file_extension": ".py",
   "mimetype": "text/x-python",
   "name": "python",
   "nbconvert_exporter": "python",
   "pygments_lexer": "ipython3",
   "version": "3.6.8"
  }
 },
 "nbformat": 4,
 "nbformat_minor": 2
}
